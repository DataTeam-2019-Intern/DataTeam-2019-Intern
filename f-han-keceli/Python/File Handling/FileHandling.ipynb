{
 "cells": [
  {
   "cell_type": "markdown",
   "metadata": {},
   "source": [
    "# File Handling"
   ]
  },
  {
   "cell_type": "code",
   "execution_count": 1,
   "metadata": {},
   "outputs": [
    {
     "data": {
      "text/plain": [
       "<_io.TextIOWrapper name='infos.txt' mode='w' encoding='UTF-8'>"
      ]
     },
     "execution_count": 1,
     "metadata": {},
     "output_type": "execute_result"
    }
   ],
   "source": [
    "open(\"infos.txt\",\"w\")"
   ]
  },
  {
   "cell_type": "code",
   "execution_count": 2,
   "metadata": {},
   "outputs": [],
   "source": [
    "file = open(\"infos.txt\",\"w\")"
   ]
  },
  {
   "cell_type": "code",
   "execution_count": 3,
   "metadata": {},
   "outputs": [],
   "source": [
    "file.close()"
   ]
  },
  {
   "cell_type": "code",
   "execution_count": 5,
   "metadata": {},
   "outputs": [],
   "source": [
    "file = open(\"/home/han/Desktop/infos.txt\",\"w\")"
   ]
  },
  {
   "cell_type": "code",
   "execution_count": 9,
   "metadata": {},
   "outputs": [],
   "source": [
    "file =open(\"infos.txt\",\"w\",encoding = \"utf-8\")"
   ]
  },
  {
   "cell_type": "code",
   "execution_count": 10,
   "metadata": {},
   "outputs": [
    {
     "data": {
      "text/plain": [
       "4"
      ]
     },
     "execution_count": 10,
     "metadata": {},
     "output_type": "execute_result"
    }
   ],
   "source": [
    "file.write(\"Hann\")"
   ]
  },
  {
   "cell_type": "code",
   "execution_count": 22,
   "metadata": {},
   "outputs": [],
   "source": [
    "file.close()"
   ]
  },
  {
   "cell_type": "code",
   "execution_count": 23,
   "metadata": {},
   "outputs": [],
   "source": [
    "file =open(\"infos.txt\",\"w\",encoding = \"utf-8\")"
   ]
  },
  {
   "cell_type": "code",
   "execution_count": 24,
   "metadata": {},
   "outputs": [],
   "source": [
    "file.close()"
   ]
  },
  {
   "cell_type": "code",
   "execution_count": 25,
   "metadata": {},
   "outputs": [],
   "source": [
    "file =open(\"infos.txt\",\"a\",encoding = \"utf-8\")"
   ]
  },
  {
   "cell_type": "code",
   "execution_count": 26,
   "metadata": {},
   "outputs": [
    {
     "data": {
      "text/plain": [
       "3"
      ]
     },
     "execution_count": 26,
     "metadata": {},
     "output_type": "execute_result"
    }
   ],
   "source": [
    "file.write(\"Han\\n\")"
   ]
  },
  {
   "cell_type": "code",
   "execution_count": 27,
   "metadata": {},
   "outputs": [],
   "source": [
    "file.close()"
   ]
  },
  {
   "cell_type": "code",
   "execution_count": 28,
   "metadata": {},
   "outputs": [],
   "source": [
    "file =open(\"infos.txt\",\"a\",encoding = \"utf-8\")"
   ]
  },
  {
   "cell_type": "code",
   "execution_count": 29,
   "metadata": {},
   "outputs": [
    {
     "data": {
      "text/plain": [
       "11"
      ]
     },
     "execution_count": 29,
     "metadata": {},
     "output_type": "execute_result"
    }
   ],
   "source": [
    "file.write(\"Keceli\")"
   ]
  },
  {
   "cell_type": "code",
   "execution_count": 30,
   "metadata": {},
   "outputs": [],
   "source": [
    "file.close()"
   ]
  },
  {
   "cell_type": "markdown",
   "metadata": {},
   "source": [
    "# File Reading Processing"
   ]
  },
  {
   "cell_type": "code",
   "execution_count": 31,
   "metadata": {},
   "outputs": [],
   "source": [
    "file = open(\"infos.txt\",\"r\")"
   ]
  },
  {
   "cell_type": "code",
   "execution_count": 32,
   "metadata": {},
   "outputs": [],
   "source": [
    "file.close()"
   ]
  },
  {
   "cell_type": "code",
   "execution_count": 33,
   "metadata": {},
   "outputs": [
    {
     "ename": "FileNotFoundError",
     "evalue": "[Errno 2] No such file or directory: 'infos2.txt'",
     "output_type": "error",
     "traceback": [
      "\u001b[0;31m---------------------------------------------------------------------------\u001b[0m",
      "\u001b[0;31mFileNotFoundError\u001b[0m                         Traceback (most recent call last)",
      "\u001b[0;32m<ipython-input-33-25c70d9967ff>\u001b[0m in \u001b[0;36m<module>\u001b[0;34m\u001b[0m\n\u001b[0;32m----> 1\u001b[0;31m \u001b[0mfile\u001b[0m \u001b[0;34m=\u001b[0m \u001b[0mopen\u001b[0m\u001b[0;34m(\u001b[0m\u001b[0;34m\"infos2.txt\"\u001b[0m\u001b[0;34m,\u001b[0m\u001b[0;34m\"r\"\u001b[0m\u001b[0;34m)\u001b[0m\u001b[0;34m\u001b[0m\u001b[0;34m\u001b[0m\u001b[0m\n\u001b[0m",
      "\u001b[0;31mFileNotFoundError\u001b[0m: [Errno 2] No such file or directory: 'infos2.txt'"
     ]
    }
   ],
   "source": [
    "file = open(\"infos2.txt\",\"r\")"
   ]
  },
  {
   "cell_type": "code",
   "execution_count": 34,
   "metadata": {},
   "outputs": [
    {
     "name": "stdout",
     "output_type": "stream",
     "text": [
      "File couldn't find..\n"
     ]
    }
   ],
   "source": [
    "try:\n",
    "    file = open(\"infos2.txt\",\"r\")\n",
    "except FileNotFoundError:\n",
    "    print(\"File couldn't find..\")"
   ]
  },
  {
   "cell_type": "code",
   "execution_count": 50,
   "metadata": {},
   "outputs": [],
   "source": [
    "file = open(\"infos.txt\",\"r\")"
   ]
  },
  {
   "cell_type": "code",
   "execution_count": 48,
   "metadata": {},
   "outputs": [
    {
     "name": "stdout",
     "output_type": "stream",
     "text": [
      "Abel Simmons\n",
      "\n",
      "Emma Hicks\n",
      "\n",
      "Katrina Parker\n",
      "\n",
      "Ruby Owen\n",
      "\n",
      "Nichole Fleming\n"
     ]
    }
   ],
   "source": [
    "for i in file:\n",
    "    print(i)\n",
    "file.close()"
   ]
  },
  {
   "cell_type": "code",
   "execution_count": 51,
   "metadata": {},
   "outputs": [
    {
     "name": "stdout",
     "output_type": "stream",
     "text": [
      "Abel Simmons\n",
      "Emma Hicks\n",
      "Katrina Parker\n",
      "Ruby Owen\n",
      "Nichole Fleming"
     ]
    }
   ],
   "source": [
    "for i in file:\n",
    "    print(i, end = \"\")\n",
    "file.close()"
   ]
  },
  {
   "cell_type": "code",
   "execution_count": 52,
   "metadata": {},
   "outputs": [
    {
     "name": "stdout",
     "output_type": "stream",
     "text": [
      "File content: \n",
      "Abel Simmons\n",
      "Emma Hicks\n",
      "Katrina Parker\n",
      "Ruby Owen\n",
      "Nichole Fleming\n"
     ]
    }
   ],
   "source": [
    "file = open(\"infos.txt\",\"r\")\n",
    "\n",
    "content = file.read()\n",
    "print(\"File content: \")\n",
    "\n",
    "print(content)"
   ]
  },
  {
   "cell_type": "code",
   "execution_count": 53,
   "metadata": {},
   "outputs": [
    {
     "name": "stdout",
     "output_type": "stream",
     "text": [
      "File content: \n",
      "Abel Simmons\n",
      "Emma Hicks\n",
      "Katrina Parker\n",
      "Ruby Owen\n",
      "Nichole Fleming\n",
      "File content2: \n",
      "\n"
     ]
    }
   ],
   "source": [
    "file = open(\"infos.txt\",\"r\")\n",
    "\n",
    "content = file.read()\n",
    "print(\"File content: \")\n",
    "\n",
    "print(content)\n",
    "\n",
    "print(\"File content2: \")\n",
    "\n",
    "content2 = file.read()\n",
    "\n",
    "print(content2)"
   ]
  },
  {
   "cell_type": "code",
   "execution_count": 54,
   "metadata": {},
   "outputs": [
    {
     "name": "stdout",
     "output_type": "stream",
     "text": [
      "Abel Simmons\n",
      "\n"
     ]
    }
   ],
   "source": [
    "file = open(\"infos.txt\",\"r\")\n",
    "\n",
    "print(file.readline())\n",
    "file.close()"
   ]
  },
  {
   "cell_type": "code",
   "execution_count": 55,
   "metadata": {},
   "outputs": [
    {
     "name": "stdout",
     "output_type": "stream",
     "text": [
      "Abel Simmons\n",
      "\n",
      "Emma Hicks\n",
      "\n",
      "Katrina Parker\n",
      "\n",
      "Ruby Owen\n",
      "\n",
      "Nichole Fleming\n"
     ]
    }
   ],
   "source": [
    "file = open(\"infos.txt\",\"r\")\n",
    "\n",
    "print(file.readline())\n",
    "print(file.readline())\n",
    "print(file.readline())\n",
    "print(file.readline())\n",
    "print(file.readline())\n",
    "\n",
    "file.close()"
   ]
  },
  {
   "cell_type": "code",
   "execution_count": 57,
   "metadata": {},
   "outputs": [
    {
     "name": "stdout",
     "output_type": "stream",
     "text": [
      "['Abel Simmons\\n', 'Emma Hicks\\n', 'Katrina Parker\\n', 'Ruby Owen\\n', 'Nichole Fleming']\n"
     ]
    }
   ],
   "source": [
    "file = open(\"infos.txt\",\"r\")\n",
    "\n",
    "List = file.readlines()\n",
    "print(List)\n",
    "file.close()"
   ]
  },
  {
   "cell_type": "code",
   "execution_count": 58,
   "metadata": {},
   "outputs": [
    {
     "name": "stdout",
     "output_type": "stream",
     "text": [
      "Abel Simmons\n",
      "\n",
      "Emma Hicks\n",
      "\n",
      "Katrina Parker\n",
      "\n",
      "Ruby Owen\n",
      "\n",
      "Nichole Fleming\n"
     ]
    }
   ],
   "source": [
    "with open(\"infos.txt\",\"r\") as file:\n",
    "    for i in file:\n",
    "        print(i)"
   ]
  },
  {
   "cell_type": "code",
   "execution_count": 61,
   "metadata": {},
   "outputs": [
    {
     "name": "stdout",
     "output_type": "stream",
     "text": [
      "0\n"
     ]
    }
   ],
   "source": [
    "with open(\"infos.txt\",\"r\") as file:\n",
    "    print(file.tell())"
   ]
  },
  {
   "cell_type": "code",
   "execution_count": 62,
   "metadata": {},
   "outputs": [
    {
     "name": "stdout",
     "output_type": "stream",
     "text": [
      "0\n",
      "20\n"
     ]
    }
   ],
   "source": [
    "with open(\"infos.txt\",\"r\") as file:\n",
    "    print(file.tell())\n",
    "    file.seek(20)\n",
    "    print(file.tell())"
   ]
  },
  {
   "cell_type": "code",
   "execution_count": 64,
   "metadata": {},
   "outputs": [
    {
     "name": "stdout",
     "output_type": "stream",
     "text": [
      "6\n",
      "n,Java,C++\n",
      "Python\n"
     ]
    }
   ],
   "source": [
    "with open(\"infos.txt\",\"r\") as file:\n",
    "    file.seek(5)\n",
    "    content = file.read(10)\n",
    "    file.seek(0)\n",
    "    content2 = file.read(6)\n",
    "    print(file.tell())\n",
    "    print(content)\n",
    "    print(content2)"
   ]
  },
  {
   "cell_type": "code",
   "execution_count": 65,
   "metadata": {},
   "outputs": [
    {
     "name": "stdout",
     "output_type": "stream",
     "text": [
      "Renee Rogers\n",
      "Johnny Richardson\n",
      "Marion Strickland\n",
      "Ronnie Hanson\n"
     ]
    }
   ],
   "source": [
    "with open(\"infos.txt\",\"r+\")as file:\n",
    "    print(file.read())"
   ]
  },
  {
   "cell_type": "code",
   "execution_count": 66,
   "metadata": {},
   "outputs": [],
   "source": [
    "with open(\"infos.txt\",\"r+\")as file:\n",
    "    file.seek(10)\n",
    "    file.write(\"Demo\")"
   ]
  },
  {
   "cell_type": "code",
   "execution_count": 67,
   "metadata": {},
   "outputs": [
    {
     "name": "stdout",
     "output_type": "stream",
     "text": [
      "Renee RogeDemoohnny Richardson\n",
      "Marion Strickland\n",
      "Ronnie Hanson\n"
     ]
    }
   ],
   "source": [
    "with open(\"infos.txt\",\"r+\")as file:\n",
    "    print(file.read())"
   ]
  },
  {
   "cell_type": "code",
   "execution_count": 68,
   "metadata": {},
   "outputs": [
    {
     "name": "stdout",
     "output_type": "stream",
     "text": [
      "Renee Rogers\n",
      "Johnny Richardson\n",
      "Marion Strickland\n",
      "Ronnie Hanson\n"
     ]
    }
   ],
   "source": [
    "with open(\"infos.txt\",\"r+\")as file:\n",
    "    print(file.read())"
   ]
  },
  {
   "cell_type": "code",
   "execution_count": 69,
   "metadata": {},
   "outputs": [],
   "source": [
    "with open(\"infos.txt\",\"a\")as file:\n",
    "    file.write(\"Han Keceli\\n\")"
   ]
  },
  {
   "cell_type": "code",
   "execution_count": 70,
   "metadata": {},
   "outputs": [
    {
     "name": "stdout",
     "output_type": "stream",
     "text": [
      "Renee Rogers\n",
      "Johnny Richardson\n",
      "Marion Strickland\n",
      "Ronnie HansonHan Keceli\n",
      "\n"
     ]
    }
   ],
   "source": [
    "with open(\"infos.txt\",\"r+\")as file:\n",
    "    print(file.read())"
   ]
  },
  {
   "cell_type": "code",
   "execution_count": 71,
   "metadata": {},
   "outputs": [],
   "source": [
    "with open(\"infos.txt\",\"a\")as file:\n",
    "    file.write(\"Hiroyuki Sanada\\n\")"
   ]
  },
  {
   "cell_type": "code",
   "execution_count": 74,
   "metadata": {},
   "outputs": [
    {
     "name": "stdout",
     "output_type": "stream",
     "text": [
      "Renee Rogers\n",
      "Johnny Richardson\n",
      "Marion Strickland\n",
      "Ronnie HansonHan Keceli\n",
      "Hiroyuki Sanada\n",
      "\n"
     ]
    }
   ],
   "source": [
    "with open(\"infos.txt\",\"r+\")as file:\n",
    "    print(file.read())"
   ]
  },
  {
   "cell_type": "code",
   "execution_count": 1,
   "metadata": {},
   "outputs": [
    {
     "name": "stdout",
     "output_type": "stream",
     "text": [
      "Renee Rogers\n",
      "Johnny Richardson\n",
      "Marion Strickland\n",
      "Ronnie HansonHan Keceli\n",
      "Hiroyuki Sanada\n",
      "\n"
     ]
    }
   ],
   "source": [
    "with open(\"infos.txt\",\"r+\")as file:\n",
    "    print(file.read())"
   ]
  },
  {
   "cell_type": "code",
   "execution_count": 5,
   "metadata": {},
   "outputs": [],
   "source": [
    "with open(\"infos.txt\",\"r+\")as file:\n",
    "    content = file.read()\n",
    "    content = \"Floyd Nash\\n\" + content\n",
    "    file.seek(0)\n",
    "    file.write(content)"
   ]
  },
  {
   "cell_type": "code",
   "execution_count": 7,
   "metadata": {},
   "outputs": [
    {
     "name": "stdout",
     "output_type": "stream",
     "text": [
      "Floyd Nash\n",
      "Floyd Nash\n",
      "Renee Rogers\n",
      "Johnny Richardson\n",
      "Marion Strickland\n",
      "Ronnie HansonHan Keceli\n",
      "Hiroyuki Sanada\n",
      "\n"
     ]
    }
   ],
   "source": [
    "with open(\"infos.txt\",\"r+\")as file:\n",
    "    print(file.read())"
   ]
  },
  {
   "cell_type": "code",
   "execution_count": 8,
   "metadata": {},
   "outputs": [
    {
     "name": "stdout",
     "output_type": "stream",
     "text": [
      "['Floyd Nash\\n', 'Floyd Nash\\n', 'Renee Rogers\\n', 'Johnny Richardson\\n', 'Marion Strickland\\n', 'Ronnie HansonHan Keceli\\n', 'Hiroyuki Sanada\\n']\n"
     ]
    }
   ],
   "source": [
    "with open(\"infos.txt\",\"r+\")as file:\n",
    "    List = file.readlines()\n",
    "    print(List)"
   ]
  },
  {
   "cell_type": "code",
   "execution_count": 18,
   "metadata": {},
   "outputs": [],
   "source": [
    "with open(\"infos.txt\",\"r+\")as file:\n",
    "    List = file.readlines()\n",
    "    List.insert(3,\"Guadalupe Tucker\\n\")\n",
    "    file.seek(0)\n",
    "    for i in List:\n",
    "        file.write(i)        "
   ]
  },
  {
   "cell_type": "code",
   "execution_count": 19,
   "metadata": {},
   "outputs": [
    {
     "name": "stdout",
     "output_type": "stream",
     "text": [
      "Floyd Nash\n",
      "Floyd Nash\n",
      "Renee Rogers\n",
      "Guadalupe Tucker\n",
      "Virginia Owens\n",
      "Virginia Owens\n",
      "Guadalupe Tucker\n",
      "Guadalupe Tucker\n",
      "Guadalupe Tucker\n",
      "Johnny Richardson\n",
      "Marion Strickland\n",
      "Ronnie HansonHan Keceli\n",
      "Hiroyuki Sanada\n",
      "\n"
     ]
    }
   ],
   "source": [
    "with open(\"infos.txt\",\"r+\")as file:\n",
    "    print(file.read())"
   ]
  },
  {
   "cell_type": "code",
   "execution_count": 16,
   "metadata": {},
   "outputs": [],
   "source": [
    "with open(\"infos.txt\",\"r+\")as file:\n",
    "    List = file.readlines()\n",
    "    List.insert(3,\"Virginia Owens\\n\")\n",
    "    file.seek(0)\n",
    "    file.writelines(List)        "
   ]
  },
  {
   "cell_type": "code",
   "execution_count": 17,
   "metadata": {},
   "outputs": [
    {
     "name": "stdout",
     "output_type": "stream",
     "text": [
      "Floyd Nash\n",
      "Floyd Nash\n",
      "Renee Rogers\n",
      "Virginia Owens\n",
      "Virginia Owens\n",
      "Guadalupe Tucker\n",
      "Guadalupe Tucker\n",
      "Guadalupe Tucker\n",
      "Johnny Richardson\n",
      "Marion Strickland\n",
      "Ronnie HansonHan Keceli\n",
      "Hiroyuki Sanada\n",
      "\n"
     ]
    }
   ],
   "source": [
    "with open(\"infos.txt\",\"r+\")as file:\n",
    "    print(file.read())"
   ]
  },
  {
   "cell_type": "code",
   "execution_count": null,
   "metadata": {},
   "outputs": [],
   "source": []
  }
 ],
 "metadata": {
  "kernelspec": {
   "display_name": "Python 3",
   "language": "python",
   "name": "python3"
  },
  "language_info": {
   "codemirror_mode": {
    "name": "ipython",
    "version": 3
   },
   "file_extension": ".py",
   "mimetype": "text/x-python",
   "name": "python",
   "nbconvert_exporter": "python",
   "pygments_lexer": "ipython3",
   "version": "3.7.3"
  }
 },
 "nbformat": 4,
 "nbformat_minor": 2
}
