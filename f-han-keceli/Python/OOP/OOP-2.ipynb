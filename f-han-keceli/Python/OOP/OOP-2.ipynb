{
 "cells": [
  {
   "cell_type": "markdown",
   "metadata": {},
   "source": [
    "# Inheritance"
   ]
  },
  {
   "cell_type": "code",
   "execution_count": 1,
   "metadata": {},
   "outputs": [],
   "source": [
    "class Employee():\n",
    "    \n",
    "    def __init__(self,name,salary,department):\n",
    "        \n",
    "        self.name = name\n",
    "        self.salary = salary\n",
    "        self.department = department\n",
    "        print(\"Employee Class's init func\")\n",
    "        \n",
    "    def showInfos(self):\n",
    "        print(\"Employee infos..\")\n",
    "        \n",
    "        print(\"Name: {} \\nSalary: {}\\nDepartment: {} \\n\". format(self.name,self.salary,self.department))\n",
    "        \n",
    "    def change_department(self,new_department):\n",
    "        self.department = new_department"
   ]
  },
  {
   "cell_type": "code",
   "execution_count": 2,
   "metadata": {},
   "outputs": [],
   "source": [
    "class Manager(Employee):\n",
    "    pass"
   ]
  },
  {
   "cell_type": "code",
   "execution_count": 3,
   "metadata": {},
   "outputs": [
    {
     "name": "stdout",
     "output_type": "stream",
     "text": [
      "Employee Class's init func\n"
     ]
    }
   ],
   "source": [
    "manager = Manager(\"Han Keceli\",3000,\"IT\")"
   ]
  },
  {
   "cell_type": "code",
   "execution_count": 4,
   "metadata": {},
   "outputs": [
    {
     "name": "stdout",
     "output_type": "stream",
     "text": [
      "Employee infos..\n",
      "Name: Han Keceli \n",
      "Salary: 3000\n",
      "Department: IT \n",
      "\n"
     ]
    }
   ],
   "source": [
    "manager.showInfos()"
   ]
  },
  {
   "cell_type": "code",
   "execution_count": 5,
   "metadata": {},
   "outputs": [],
   "source": [
    "manager.change_department(\"CS\")"
   ]
  },
  {
   "cell_type": "code",
   "execution_count": 6,
   "metadata": {},
   "outputs": [
    {
     "name": "stdout",
     "output_type": "stream",
     "text": [
      "Employee infos..\n",
      "Name: Han Keceli \n",
      "Salary: 3000\n",
      "Department: CS \n",
      "\n"
     ]
    }
   ],
   "source": [
    "manager.showInfos()"
   ]
  },
  {
   "cell_type": "code",
   "execution_count": 7,
   "metadata": {},
   "outputs": [
    {
     "data": {
      "text/plain": [
       "['__class__',\n",
       " '__delattr__',\n",
       " '__dict__',\n",
       " '__dir__',\n",
       " '__doc__',\n",
       " '__eq__',\n",
       " '__format__',\n",
       " '__ge__',\n",
       " '__getattribute__',\n",
       " '__gt__',\n",
       " '__hash__',\n",
       " '__init__',\n",
       " '__init_subclass__',\n",
       " '__le__',\n",
       " '__lt__',\n",
       " '__module__',\n",
       " '__ne__',\n",
       " '__new__',\n",
       " '__reduce__',\n",
       " '__reduce_ex__',\n",
       " '__repr__',\n",
       " '__setattr__',\n",
       " '__sizeof__',\n",
       " '__str__',\n",
       " '__subclasshook__',\n",
       " '__weakref__',\n",
       " 'change_department',\n",
       " 'department',\n",
       " 'name',\n",
       " 'salary',\n",
       " 'showInfos']"
      ]
     },
     "execution_count": 7,
     "metadata": {},
     "output_type": "execute_result"
    }
   ],
   "source": [
    "dir(manager)"
   ]
  },
  {
   "cell_type": "code",
   "execution_count": 8,
   "metadata": {},
   "outputs": [],
   "source": [
    "class Manager(Employee):\n",
    "    def rise_salary(self,rise_amount):\n",
    "        self.salary += rise_amount"
   ]
  },
  {
   "cell_type": "code",
   "execution_count": 9,
   "metadata": {},
   "outputs": [
    {
     "name": "stdout",
     "output_type": "stream",
     "text": [
      "Employee Class's init func\n"
     ]
    }
   ],
   "source": [
    "manager = Manager(\"Hiroyuki-san\",3500,\"HR\")"
   ]
  },
  {
   "cell_type": "code",
   "execution_count": 10,
   "metadata": {},
   "outputs": [],
   "source": [
    "manager.rise_salary(500)"
   ]
  },
  {
   "cell_type": "code",
   "execution_count": 11,
   "metadata": {},
   "outputs": [
    {
     "name": "stdout",
     "output_type": "stream",
     "text": [
      "Employee infos..\n",
      "Name: Hiroyuki-san \n",
      "Salary: 4000\n",
      "Department: HR \n",
      "\n"
     ]
    }
   ],
   "source": [
    "manager.showInfos()"
   ]
  },
  {
   "cell_type": "markdown",
   "metadata": {},
   "source": [
    "# Overriding"
   ]
  },
  {
   "cell_type": "code",
   "execution_count": 12,
   "metadata": {},
   "outputs": [],
   "source": [
    "class Employee():\n",
    "    \n",
    "    def __init__(self,name,salary,department):\n",
    "        \n",
    "        self.name = name\n",
    "        self.salary = salary\n",
    "        self.department = department\n",
    "        print(\"Employee Class's init func\")\n",
    "        \n",
    "    def showInfos(self):\n",
    "        print(\"Employee infos..\")\n",
    "        \n",
    "        print(\"Name: {} \\nSalary: {}\\nDepartment: {} \\nCharged number of people: {}\". format(self.name,self.salary,self.department,self.numberOfPeople))\n",
    "        \n",
    "    def change_department(self,new_department):\n",
    "        self.department = new_department"
   ]
  },
  {
   "cell_type": "code",
   "execution_count": 13,
   "metadata": {},
   "outputs": [],
   "source": [
    "class Manager(Employee):\n",
    "    def __init__(self,name,salary,department,numberOfPeople):\n",
    "        print(\"Manager Class's init func\")\n",
    "        \n",
    "        self.name = name\n",
    "        self.salary = salary\n",
    "        self.department = department\n",
    "        self.numberOfPeople = numberOfPeople\n",
    "    def rise_salary(self,rise_amount):\n",
    "        self.salary += rise_amount"
   ]
  },
  {
   "cell_type": "code",
   "execution_count": 14,
   "metadata": {},
   "outputs": [
    {
     "name": "stdout",
     "output_type": "stream",
     "text": [
      "Manager Class's init func\n"
     ]
    }
   ],
   "source": [
    "manager = Manager(\"Ken Watanabe\",3500,\"Actor\",10)"
   ]
  },
  {
   "cell_type": "code",
   "execution_count": 15,
   "metadata": {},
   "outputs": [
    {
     "name": "stdout",
     "output_type": "stream",
     "text": [
      "Employee infos..\n",
      "Name: Ken Watanabe \n",
      "Salary: 3500\n",
      "Department: Actor \n",
      "Charged number of people: 10\n"
     ]
    }
   ],
   "source": [
    "manager.showInfos()"
   ]
  },
  {
   "cell_type": "markdown",
   "metadata": {},
   "source": [
    "# Super keyword"
   ]
  },
  {
   "cell_type": "code",
   "execution_count": 16,
   "metadata": {},
   "outputs": [],
   "source": [
    "class Employee():\n",
    "    \n",
    "    def __init__(self,name,salary,department):\n",
    "        \n",
    "        self.name = name\n",
    "        self.salary = salary\n",
    "        self.department = department\n",
    "        print(\"Employee Class's init func\")\n",
    "        \n",
    "    def showInfos(self):\n",
    "        print(\"Employee infos..\")\n",
    "        \n",
    "        print(\"Name: {} \\nSalary: {}\\nDepartment: {} \\nCharged number of people: {}\". format(self.name,self.salary,self.department,self.numberOfPeople))\n",
    "        \n",
    "    def change_department(self,new_department):\n",
    "        self.department = new_department"
   ]
  },
  {
   "cell_type": "code",
   "execution_count": 17,
   "metadata": {},
   "outputs": [],
   "source": [
    "class Manager(Employee):\n",
    "    def __init__(self,name,salary,department,numberOfPeople):\n",
    "        super().__init__(name,salary,department)\n",
    "    \n",
    "        print(\"Manager Class's init func\")\n",
    "        \n",
    "        self.numberOfPeople = numberOfPeople\n",
    "    \n",
    "    def showInfos(self):\n",
    "        print(\"Employee infos..\")\n",
    "        \n",
    "        print(\"Name: {} \\nSalary: {}\\nDepartment: {} \\nCharged number of people: {}\". format(self.name,self.salary,self.department,self.numberOfPeople))\n",
    "     \n",
    "    def rise_salary(self,rise_amount):\n",
    "        self.salary += rise_amount"
   ]
  },
  {
   "cell_type": "code",
   "execution_count": 18,
   "metadata": {},
   "outputs": [
    {
     "name": "stdout",
     "output_type": "stream",
     "text": [
      "Employee Class's init func\n",
      "Manager Class's init func\n"
     ]
    }
   ],
   "source": [
    "manager = Manager(\"Ali Veli\",3000,'IT',5)"
   ]
  },
  {
   "cell_type": "code",
   "execution_count": 19,
   "metadata": {},
   "outputs": [
    {
     "name": "stdout",
     "output_type": "stream",
     "text": [
      "Employee infos..\n",
      "Name: Ali Veli \n",
      "Salary: 3000\n",
      "Department: IT \n",
      "Charged number of people: 5\n"
     ]
    }
   ],
   "source": [
    "manager.showInfos()"
   ]
  },
  {
   "cell_type": "code",
   "execution_count": null,
   "metadata": {},
   "outputs": [],
   "source": []
  }
 ],
 "metadata": {
  "kernelspec": {
   "display_name": "Python 3",
   "language": "python",
   "name": "python3"
  },
  "language_info": {
   "codemirror_mode": {
    "name": "ipython",
    "version": 3
   },
   "file_extension": ".py",
   "mimetype": "text/x-python",
   "name": "python",
   "nbconvert_exporter": "python",
   "pygments_lexer": "ipython3",
   "version": "3.7.3"
  }
 },
 "nbformat": 4,
 "nbformat_minor": 2
}
